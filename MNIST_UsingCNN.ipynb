{
  "nbformat": 4,
  "nbformat_minor": 0,
  "metadata": {
    "colab": {
      "name": "MNIST_UsingCNN.ipynb",
      "provenance": [],
      "collapsed_sections": [],
      "mount_file_id": "11G_KLshLTbv0SpSu78IL2gTPRD-AWlfD",
      "authorship_tag": "ABX9TyOy+hFXs0r0fLAGj+0ZyO5J"
    },
    "kernelspec": {
      "name": "python3",
      "display_name": "Python 3"
    },
    "accelerator": "GPU"
  },
  "cells": [
    {
      "cell_type": "markdown",
      "metadata": {
        "id": "07dtqo7sZHel",
        "colab_type": "text"
      },
      "source": [
        "#Preparing and Exploring Image Data"
      ]
    },
    {
      "cell_type": "code",
      "metadata": {
        "id": "2vmXpmaCPWeu",
        "colab_type": "code",
        "colab": {}
      },
      "source": [
        "import pandas as pd\n",
        "import numpy as np\n",
        "import matplotlib.pyplot as plt\n",
        "\n",
        "import torch\n",
        "import torchvision"
      ],
      "execution_count": 0,
      "outputs": []
    },
    {
      "cell_type": "code",
      "metadata": {
        "id": "ozMrSjC3P2rU",
        "colab_type": "code",
        "colab": {}
      },
      "source": [
        "# !unzip '/content/drive/My Drive/Colab Notebooks/Udacity_DL/Dataset/MNIST-Dataset/mnist-in-csv.zip' -d '/content/drive/My Drive/Colab Notebooks/Udacity_DL/Dataset/MNIST-Dataset'"
      ],
      "execution_count": 0,
      "outputs": []
    },
    {
      "cell_type": "code",
      "metadata": {
        "id": "kSdw4lI0TfE2",
        "colab_type": "code",
        "colab": {}
      },
      "source": [
        "mnist_train = pd.read_csv('/content/drive/My Drive/Colab Notebooks/Udacity_DL/Dataset/MNIST-Dataset/mnist_train.csv')\n",
        "mnist_test = pd.read_csv('/content/drive/My Drive/Colab Notebooks/Udacity_DL/Dataset/MNIST-Dataset/mnist_test.csv')"
      ],
      "execution_count": 0,
      "outputs": []
    },
    {
      "cell_type": "code",
      "metadata": {
        "id": "ajgTcPr3UwQF",
        "colab_type": "code",
        "outputId": "10703c36-ade8-430f-b7db-812e537523e8",
        "colab": {
          "base_uri": "https://localhost:8080/",
          "height": 244
        }
      },
      "source": [
        "mnist_train.head()"
      ],
      "execution_count": 40,
      "outputs": [
        {
          "output_type": "execute_result",
          "data": {
            "text/html": [
              "<div>\n",
              "<style scoped>\n",
              "    .dataframe tbody tr th:only-of-type {\n",
              "        vertical-align: middle;\n",
              "    }\n",
              "\n",
              "    .dataframe tbody tr th {\n",
              "        vertical-align: top;\n",
              "    }\n",
              "\n",
              "    .dataframe thead th {\n",
              "        text-align: right;\n",
              "    }\n",
              "</style>\n",
              "<table border=\"1\" class=\"dataframe\">\n",
              "  <thead>\n",
              "    <tr style=\"text-align: right;\">\n",
              "      <th></th>\n",
              "      <th>label</th>\n",
              "      <th>1x1</th>\n",
              "      <th>1x2</th>\n",
              "      <th>1x3</th>\n",
              "      <th>1x4</th>\n",
              "      <th>1x5</th>\n",
              "      <th>1x6</th>\n",
              "      <th>1x7</th>\n",
              "      <th>1x8</th>\n",
              "      <th>1x9</th>\n",
              "      <th>1x10</th>\n",
              "      <th>1x11</th>\n",
              "      <th>1x12</th>\n",
              "      <th>1x13</th>\n",
              "      <th>1x14</th>\n",
              "      <th>1x15</th>\n",
              "      <th>1x16</th>\n",
              "      <th>1x17</th>\n",
              "      <th>1x18</th>\n",
              "      <th>1x19</th>\n",
              "      <th>1x20</th>\n",
              "      <th>1x21</th>\n",
              "      <th>1x22</th>\n",
              "      <th>1x23</th>\n",
              "      <th>1x24</th>\n",
              "      <th>1x25</th>\n",
              "      <th>1x26</th>\n",
              "      <th>1x27</th>\n",
              "      <th>1x28</th>\n",
              "      <th>2x1</th>\n",
              "      <th>2x2</th>\n",
              "      <th>2x3</th>\n",
              "      <th>2x4</th>\n",
              "      <th>2x5</th>\n",
              "      <th>2x6</th>\n",
              "      <th>2x7</th>\n",
              "      <th>2x8</th>\n",
              "      <th>2x9</th>\n",
              "      <th>2x10</th>\n",
              "      <th>2x11</th>\n",
              "      <th>...</th>\n",
              "      <th>27x17</th>\n",
              "      <th>27x18</th>\n",
              "      <th>27x19</th>\n",
              "      <th>27x20</th>\n",
              "      <th>27x21</th>\n",
              "      <th>27x22</th>\n",
              "      <th>27x23</th>\n",
              "      <th>27x24</th>\n",
              "      <th>27x25</th>\n",
              "      <th>27x26</th>\n",
              "      <th>27x27</th>\n",
              "      <th>27x28</th>\n",
              "      <th>28x1</th>\n",
              "      <th>28x2</th>\n",
              "      <th>28x3</th>\n",
              "      <th>28x4</th>\n",
              "      <th>28x5</th>\n",
              "      <th>28x6</th>\n",
              "      <th>28x7</th>\n",
              "      <th>28x8</th>\n",
              "      <th>28x9</th>\n",
              "      <th>28x10</th>\n",
              "      <th>28x11</th>\n",
              "      <th>28x12</th>\n",
              "      <th>28x13</th>\n",
              "      <th>28x14</th>\n",
              "      <th>28x15</th>\n",
              "      <th>28x16</th>\n",
              "      <th>28x17</th>\n",
              "      <th>28x18</th>\n",
              "      <th>28x19</th>\n",
              "      <th>28x20</th>\n",
              "      <th>28x21</th>\n",
              "      <th>28x22</th>\n",
              "      <th>28x23</th>\n",
              "      <th>28x24</th>\n",
              "      <th>28x25</th>\n",
              "      <th>28x26</th>\n",
              "      <th>28x27</th>\n",
              "      <th>28x28</th>\n",
              "    </tr>\n",
              "  </thead>\n",
              "  <tbody>\n",
              "    <tr>\n",
              "      <th>0</th>\n",
              "      <td>5</td>\n",
              "      <td>0</td>\n",
              "      <td>0</td>\n",
              "      <td>0</td>\n",
              "      <td>0</td>\n",
              "      <td>0</td>\n",
              "      <td>0</td>\n",
              "      <td>0</td>\n",
              "      <td>0</td>\n",
              "      <td>0</td>\n",
              "      <td>0</td>\n",
              "      <td>0</td>\n",
              "      <td>0</td>\n",
              "      <td>0</td>\n",
              "      <td>0</td>\n",
              "      <td>0</td>\n",
              "      <td>0</td>\n",
              "      <td>0</td>\n",
              "      <td>0</td>\n",
              "      <td>0</td>\n",
              "      <td>0</td>\n",
              "      <td>0</td>\n",
              "      <td>0</td>\n",
              "      <td>0</td>\n",
              "      <td>0</td>\n",
              "      <td>0</td>\n",
              "      <td>0</td>\n",
              "      <td>0</td>\n",
              "      <td>0</td>\n",
              "      <td>0</td>\n",
              "      <td>0</td>\n",
              "      <td>0</td>\n",
              "      <td>0</td>\n",
              "      <td>0</td>\n",
              "      <td>0</td>\n",
              "      <td>0</td>\n",
              "      <td>0</td>\n",
              "      <td>0</td>\n",
              "      <td>0</td>\n",
              "      <td>0</td>\n",
              "      <td>...</td>\n",
              "      <td>0</td>\n",
              "      <td>0</td>\n",
              "      <td>0</td>\n",
              "      <td>0</td>\n",
              "      <td>0</td>\n",
              "      <td>0</td>\n",
              "      <td>0</td>\n",
              "      <td>0</td>\n",
              "      <td>0</td>\n",
              "      <td>0</td>\n",
              "      <td>0</td>\n",
              "      <td>0</td>\n",
              "      <td>0</td>\n",
              "      <td>0</td>\n",
              "      <td>0</td>\n",
              "      <td>0</td>\n",
              "      <td>0</td>\n",
              "      <td>0</td>\n",
              "      <td>0</td>\n",
              "      <td>0</td>\n",
              "      <td>0</td>\n",
              "      <td>0</td>\n",
              "      <td>0</td>\n",
              "      <td>0</td>\n",
              "      <td>0</td>\n",
              "      <td>0</td>\n",
              "      <td>0</td>\n",
              "      <td>0</td>\n",
              "      <td>0</td>\n",
              "      <td>0</td>\n",
              "      <td>0</td>\n",
              "      <td>0</td>\n",
              "      <td>0</td>\n",
              "      <td>0</td>\n",
              "      <td>0</td>\n",
              "      <td>0</td>\n",
              "      <td>0</td>\n",
              "      <td>0</td>\n",
              "      <td>0</td>\n",
              "      <td>0</td>\n",
              "    </tr>\n",
              "    <tr>\n",
              "      <th>1</th>\n",
              "      <td>0</td>\n",
              "      <td>0</td>\n",
              "      <td>0</td>\n",
              "      <td>0</td>\n",
              "      <td>0</td>\n",
              "      <td>0</td>\n",
              "      <td>0</td>\n",
              "      <td>0</td>\n",
              "      <td>0</td>\n",
              "      <td>0</td>\n",
              "      <td>0</td>\n",
              "      <td>0</td>\n",
              "      <td>0</td>\n",
              "      <td>0</td>\n",
              "      <td>0</td>\n",
              "      <td>0</td>\n",
              "      <td>0</td>\n",
              "      <td>0</td>\n",
              "      <td>0</td>\n",
              "      <td>0</td>\n",
              "      <td>0</td>\n",
              "      <td>0</td>\n",
              "      <td>0</td>\n",
              "      <td>0</td>\n",
              "      <td>0</td>\n",
              "      <td>0</td>\n",
              "      <td>0</td>\n",
              "      <td>0</td>\n",
              "      <td>0</td>\n",
              "      <td>0</td>\n",
              "      <td>0</td>\n",
              "      <td>0</td>\n",
              "      <td>0</td>\n",
              "      <td>0</td>\n",
              "      <td>0</td>\n",
              "      <td>0</td>\n",
              "      <td>0</td>\n",
              "      <td>0</td>\n",
              "      <td>0</td>\n",
              "      <td>0</td>\n",
              "      <td>...</td>\n",
              "      <td>0</td>\n",
              "      <td>0</td>\n",
              "      <td>0</td>\n",
              "      <td>0</td>\n",
              "      <td>0</td>\n",
              "      <td>0</td>\n",
              "      <td>0</td>\n",
              "      <td>0</td>\n",
              "      <td>0</td>\n",
              "      <td>0</td>\n",
              "      <td>0</td>\n",
              "      <td>0</td>\n",
              "      <td>0</td>\n",
              "      <td>0</td>\n",
              "      <td>0</td>\n",
              "      <td>0</td>\n",
              "      <td>0</td>\n",
              "      <td>0</td>\n",
              "      <td>0</td>\n",
              "      <td>0</td>\n",
              "      <td>0</td>\n",
              "      <td>0</td>\n",
              "      <td>0</td>\n",
              "      <td>0</td>\n",
              "      <td>0</td>\n",
              "      <td>0</td>\n",
              "      <td>0</td>\n",
              "      <td>0</td>\n",
              "      <td>0</td>\n",
              "      <td>0</td>\n",
              "      <td>0</td>\n",
              "      <td>0</td>\n",
              "      <td>0</td>\n",
              "      <td>0</td>\n",
              "      <td>0</td>\n",
              "      <td>0</td>\n",
              "      <td>0</td>\n",
              "      <td>0</td>\n",
              "      <td>0</td>\n",
              "      <td>0</td>\n",
              "    </tr>\n",
              "    <tr>\n",
              "      <th>2</th>\n",
              "      <td>4</td>\n",
              "      <td>0</td>\n",
              "      <td>0</td>\n",
              "      <td>0</td>\n",
              "      <td>0</td>\n",
              "      <td>0</td>\n",
              "      <td>0</td>\n",
              "      <td>0</td>\n",
              "      <td>0</td>\n",
              "      <td>0</td>\n",
              "      <td>0</td>\n",
              "      <td>0</td>\n",
              "      <td>0</td>\n",
              "      <td>0</td>\n",
              "      <td>0</td>\n",
              "      <td>0</td>\n",
              "      <td>0</td>\n",
              "      <td>0</td>\n",
              "      <td>0</td>\n",
              "      <td>0</td>\n",
              "      <td>0</td>\n",
              "      <td>0</td>\n",
              "      <td>0</td>\n",
              "      <td>0</td>\n",
              "      <td>0</td>\n",
              "      <td>0</td>\n",
              "      <td>0</td>\n",
              "      <td>0</td>\n",
              "      <td>0</td>\n",
              "      <td>0</td>\n",
              "      <td>0</td>\n",
              "      <td>0</td>\n",
              "      <td>0</td>\n",
              "      <td>0</td>\n",
              "      <td>0</td>\n",
              "      <td>0</td>\n",
              "      <td>0</td>\n",
              "      <td>0</td>\n",
              "      <td>0</td>\n",
              "      <td>0</td>\n",
              "      <td>...</td>\n",
              "      <td>0</td>\n",
              "      <td>0</td>\n",
              "      <td>0</td>\n",
              "      <td>0</td>\n",
              "      <td>0</td>\n",
              "      <td>0</td>\n",
              "      <td>0</td>\n",
              "      <td>0</td>\n",
              "      <td>0</td>\n",
              "      <td>0</td>\n",
              "      <td>0</td>\n",
              "      <td>0</td>\n",
              "      <td>0</td>\n",
              "      <td>0</td>\n",
              "      <td>0</td>\n",
              "      <td>0</td>\n",
              "      <td>0</td>\n",
              "      <td>0</td>\n",
              "      <td>0</td>\n",
              "      <td>0</td>\n",
              "      <td>0</td>\n",
              "      <td>0</td>\n",
              "      <td>0</td>\n",
              "      <td>0</td>\n",
              "      <td>0</td>\n",
              "      <td>0</td>\n",
              "      <td>0</td>\n",
              "      <td>0</td>\n",
              "      <td>0</td>\n",
              "      <td>0</td>\n",
              "      <td>0</td>\n",
              "      <td>0</td>\n",
              "      <td>0</td>\n",
              "      <td>0</td>\n",
              "      <td>0</td>\n",
              "      <td>0</td>\n",
              "      <td>0</td>\n",
              "      <td>0</td>\n",
              "      <td>0</td>\n",
              "      <td>0</td>\n",
              "    </tr>\n",
              "    <tr>\n",
              "      <th>3</th>\n",
              "      <td>1</td>\n",
              "      <td>0</td>\n",
              "      <td>0</td>\n",
              "      <td>0</td>\n",
              "      <td>0</td>\n",
              "      <td>0</td>\n",
              "      <td>0</td>\n",
              "      <td>0</td>\n",
              "      <td>0</td>\n",
              "      <td>0</td>\n",
              "      <td>0</td>\n",
              "      <td>0</td>\n",
              "      <td>0</td>\n",
              "      <td>0</td>\n",
              "      <td>0</td>\n",
              "      <td>0</td>\n",
              "      <td>0</td>\n",
              "      <td>0</td>\n",
              "      <td>0</td>\n",
              "      <td>0</td>\n",
              "      <td>0</td>\n",
              "      <td>0</td>\n",
              "      <td>0</td>\n",
              "      <td>0</td>\n",
              "      <td>0</td>\n",
              "      <td>0</td>\n",
              "      <td>0</td>\n",
              "      <td>0</td>\n",
              "      <td>0</td>\n",
              "      <td>0</td>\n",
              "      <td>0</td>\n",
              "      <td>0</td>\n",
              "      <td>0</td>\n",
              "      <td>0</td>\n",
              "      <td>0</td>\n",
              "      <td>0</td>\n",
              "      <td>0</td>\n",
              "      <td>0</td>\n",
              "      <td>0</td>\n",
              "      <td>0</td>\n",
              "      <td>...</td>\n",
              "      <td>0</td>\n",
              "      <td>0</td>\n",
              "      <td>0</td>\n",
              "      <td>0</td>\n",
              "      <td>0</td>\n",
              "      <td>0</td>\n",
              "      <td>0</td>\n",
              "      <td>0</td>\n",
              "      <td>0</td>\n",
              "      <td>0</td>\n",
              "      <td>0</td>\n",
              "      <td>0</td>\n",
              "      <td>0</td>\n",
              "      <td>0</td>\n",
              "      <td>0</td>\n",
              "      <td>0</td>\n",
              "      <td>0</td>\n",
              "      <td>0</td>\n",
              "      <td>0</td>\n",
              "      <td>0</td>\n",
              "      <td>0</td>\n",
              "      <td>0</td>\n",
              "      <td>0</td>\n",
              "      <td>0</td>\n",
              "      <td>0</td>\n",
              "      <td>0</td>\n",
              "      <td>0</td>\n",
              "      <td>0</td>\n",
              "      <td>0</td>\n",
              "      <td>0</td>\n",
              "      <td>0</td>\n",
              "      <td>0</td>\n",
              "      <td>0</td>\n",
              "      <td>0</td>\n",
              "      <td>0</td>\n",
              "      <td>0</td>\n",
              "      <td>0</td>\n",
              "      <td>0</td>\n",
              "      <td>0</td>\n",
              "      <td>0</td>\n",
              "    </tr>\n",
              "    <tr>\n",
              "      <th>4</th>\n",
              "      <td>9</td>\n",
              "      <td>0</td>\n",
              "      <td>0</td>\n",
              "      <td>0</td>\n",
              "      <td>0</td>\n",
              "      <td>0</td>\n",
              "      <td>0</td>\n",
              "      <td>0</td>\n",
              "      <td>0</td>\n",
              "      <td>0</td>\n",
              "      <td>0</td>\n",
              "      <td>0</td>\n",
              "      <td>0</td>\n",
              "      <td>0</td>\n",
              "      <td>0</td>\n",
              "      <td>0</td>\n",
              "      <td>0</td>\n",
              "      <td>0</td>\n",
              "      <td>0</td>\n",
              "      <td>0</td>\n",
              "      <td>0</td>\n",
              "      <td>0</td>\n",
              "      <td>0</td>\n",
              "      <td>0</td>\n",
              "      <td>0</td>\n",
              "      <td>0</td>\n",
              "      <td>0</td>\n",
              "      <td>0</td>\n",
              "      <td>0</td>\n",
              "      <td>0</td>\n",
              "      <td>0</td>\n",
              "      <td>0</td>\n",
              "      <td>0</td>\n",
              "      <td>0</td>\n",
              "      <td>0</td>\n",
              "      <td>0</td>\n",
              "      <td>0</td>\n",
              "      <td>0</td>\n",
              "      <td>0</td>\n",
              "      <td>0</td>\n",
              "      <td>...</td>\n",
              "      <td>147</td>\n",
              "      <td>252</td>\n",
              "      <td>42</td>\n",
              "      <td>0</td>\n",
              "      <td>0</td>\n",
              "      <td>0</td>\n",
              "      <td>0</td>\n",
              "      <td>0</td>\n",
              "      <td>0</td>\n",
              "      <td>0</td>\n",
              "      <td>0</td>\n",
              "      <td>0</td>\n",
              "      <td>0</td>\n",
              "      <td>0</td>\n",
              "      <td>0</td>\n",
              "      <td>0</td>\n",
              "      <td>0</td>\n",
              "      <td>0</td>\n",
              "      <td>0</td>\n",
              "      <td>0</td>\n",
              "      <td>0</td>\n",
              "      <td>0</td>\n",
              "      <td>0</td>\n",
              "      <td>0</td>\n",
              "      <td>0</td>\n",
              "      <td>0</td>\n",
              "      <td>0</td>\n",
              "      <td>0</td>\n",
              "      <td>0</td>\n",
              "      <td>0</td>\n",
              "      <td>0</td>\n",
              "      <td>0</td>\n",
              "      <td>0</td>\n",
              "      <td>0</td>\n",
              "      <td>0</td>\n",
              "      <td>0</td>\n",
              "      <td>0</td>\n",
              "      <td>0</td>\n",
              "      <td>0</td>\n",
              "      <td>0</td>\n",
              "    </tr>\n",
              "  </tbody>\n",
              "</table>\n",
              "<p>5 rows × 785 columns</p>\n",
              "</div>"
            ],
            "text/plain": [
              "   label  1x1  1x2  1x3  1x4  1x5  ...  28x23  28x24  28x25  28x26  28x27  28x28\n",
              "0      5    0    0    0    0    0  ...      0      0      0      0      0      0\n",
              "1      0    0    0    0    0    0  ...      0      0      0      0      0      0\n",
              "2      4    0    0    0    0    0  ...      0      0      0      0      0      0\n",
              "3      1    0    0    0    0    0  ...      0      0      0      0      0      0\n",
              "4      9    0    0    0    0    0  ...      0      0      0      0      0      0\n",
              "\n",
              "[5 rows x 785 columns]"
            ]
          },
          "metadata": {
            "tags": []
          },
          "execution_count": 40
        }
      ]
    },
    {
      "cell_type": "code",
      "metadata": {
        "id": "ppMSIqaTU5Jo",
        "colab_type": "code",
        "outputId": "00a0371d-cc04-46f0-e97d-f02263d1b2cb",
        "colab": {
          "base_uri": "https://localhost:8080/",
          "height": 34
        }
      },
      "source": [
        "mnist_train.shape, mnist_test.shape"
      ],
      "execution_count": 41,
      "outputs": [
        {
          "output_type": "execute_result",
          "data": {
            "text/plain": [
              "((60000, 785), (10000, 785))"
            ]
          },
          "metadata": {
            "tags": []
          },
          "execution_count": 41
        }
      ]
    },
    {
      "cell_type": "markdown",
      "metadata": {
        "id": "-ucjAlzIVMfs",
        "colab_type": "text"
      },
      "source": [
        "Drop all empty fileds"
      ]
    },
    {
      "cell_type": "code",
      "metadata": {
        "id": "V9o1XFzFU_Bd",
        "colab_type": "code",
        "colab": {}
      },
      "source": [
        "mnist_train = mnist_train.dropna()\n",
        "mnist_test = mnist_test.dropna()"
      ],
      "execution_count": 0,
      "outputs": []
    },
    {
      "cell_type": "code",
      "metadata": {
        "id": "QN9gR8_EVQyG",
        "colab_type": "code",
        "outputId": "8bf0b377-66e2-43b2-9414-f0afc157f98a",
        "colab": {
          "base_uri": "https://localhost:8080/",
          "height": 34
        }
      },
      "source": [
        "random_sel = mnist_train.sample(8)\n",
        "\n",
        "random_sel.shape"
      ],
      "execution_count": 43,
      "outputs": [
        {
          "output_type": "execute_result",
          "data": {
            "text/plain": [
              "(8, 785)"
            ]
          },
          "metadata": {
            "tags": []
          },
          "execution_count": 43
        }
      ]
    },
    {
      "cell_type": "code",
      "metadata": {
        "id": "li6v1TY0VfD4",
        "colab_type": "code",
        "outputId": "6192a45f-9b0a-42f3-e14e-5e1a6b7c9dce",
        "colab": {
          "base_uri": "https://localhost:8080/",
          "height": 34
        }
      },
      "source": [
        "img_features = random_sel.drop('label', axis=1)\n",
        "\n",
        "img_batch = (torch.Tensor(img_features.values/255,)).reshape(-1, 28, 28)\n",
        "\n",
        "img_batch.shape"
      ],
      "execution_count": 44,
      "outputs": [
        {
          "output_type": "execute_result",
          "data": {
            "text/plain": [
              "torch.Size([8, 28, 28])"
            ]
          },
          "metadata": {
            "tags": []
          },
          "execution_count": 44
        }
      ]
    },
    {
      "cell_type": "code",
      "metadata": {
        "id": "zvAkShIYWJkX",
        "colab_type": "code",
        "outputId": "8c77bc8b-7a2a-4174-9009-cfa71c06e4c2",
        "colab": {
          "base_uri": "https://localhost:8080/",
          "height": 34
        }
      },
      "source": [
        "img_batch.unsqueeze(1).shape"
      ],
      "execution_count": 45,
      "outputs": [
        {
          "output_type": "execute_result",
          "data": {
            "text/plain": [
              "torch.Size([8, 1, 28, 28])"
            ]
          },
          "metadata": {
            "tags": []
          },
          "execution_count": 45
        }
      ]
    },
    {
      "cell_type": "code",
      "metadata": {
        "id": "JTupLz7kV6al",
        "colab_type": "code",
        "outputId": "625eaea9-838c-4440-a7dc-4713bf833dd4",
        "colab": {
          "base_uri": "https://localhost:8080/",
          "height": 34
        }
      },
      "source": [
        "grid = torchvision.utils.make_grid(img_batch.unsqueeze(1), nrow=8)\n",
        "\n",
        "grid.shape"
      ],
      "execution_count": 46,
      "outputs": [
        {
          "output_type": "execute_result",
          "data": {
            "text/plain": [
              "torch.Size([3, 32, 242])"
            ]
          },
          "metadata": {
            "tags": []
          },
          "execution_count": 46
        }
      ]
    },
    {
      "cell_type": "code",
      "metadata": {
        "id": "OR_csR7yWSD5",
        "colab_type": "code",
        "outputId": "93684f72-362d-4770-d546-878a21e8cbcd",
        "colab": {
          "base_uri": "https://localhost:8080/",
          "height": 136
        }
      },
      "source": [
        "plt.figure(figsize = (12, 12))\n",
        "\n",
        "plt.imshow(grid.numpy().transpose((1, 2, 0)))\n",
        "\n",
        "plt.axis('off')"
      ],
      "execution_count": 47,
      "outputs": [
        {
          "output_type": "execute_result",
          "data": {
            "text/plain": [
              "(-0.5, 241.5, 31.5, -0.5)"
            ]
          },
          "metadata": {
            "tags": []
          },
          "execution_count": 47
        },
        {
          "output_type": "display_data",
          "data": {
            "image/png": "[encoded data removed]",
            "text/plain": [
              "<Figure size 864x864 with 1 Axes>"
            ]
          },
          "metadata": {
            "tags": [],
            "needs_background": "light"
          }
        }
      ]
    },
    {
      "cell_type": "code",
      "metadata": {
        "id": "6-Kl-oLeWrWz",
        "colab_type": "code",
        "colab": {}
      },
      "source": [
        "mnist_train_features = mnist_train.drop('label', axis=1)\n",
        "mnist_train_target = mnist_train['label']\n",
        "\n",
        "mnist_test_features = mnist_test.drop('label', axis=1)\n",
        "mnist_test_target = mnist_test['label']"
      ],
      "execution_count": 0,
      "outputs": []
    },
    {
      "cell_type": "code",
      "metadata": {
        "id": "B9YckyApXMox",
        "colab_type": "code",
        "colab": {}
      },
      "source": [
        "X_train_tensor = torch.tensor(mnist_train_features.values, dtype=torch.float)\n",
        "Y_train_tensor = torch.tensor(mnist_train_target.values, dtype=torch.long)\n",
        "\n",
        "X_test_tensor = torch.tensor(mnist_test_features.values, dtype=torch.float)\n",
        "Y_test_tensor = torch.tensor(mnist_test_target.values, dtype=torch.long)"
      ],
      "execution_count": 0,
      "outputs": []
    },
    {
      "cell_type": "code",
      "metadata": {
        "id": "Y5dbn6iwXxDD",
        "colab_type": "code",
        "outputId": "bfece0ca-17bb-4b6f-ea8d-2e8bcd4d3796",
        "colab": {
          "base_uri": "https://localhost:8080/",
          "height": 84
        }
      },
      "source": [
        "X_train_tensor.shape, X_test_tensor.shape, Y_train_tensor.shape, Y_test_tensor.shape"
      ],
      "execution_count": 50,
      "outputs": [
        {
          "output_type": "execute_result",
          "data": {
            "text/plain": [
              "(torch.Size([60000, 784]),\n",
              " torch.Size([10000, 784]),\n",
              " torch.Size([60000]),\n",
              " torch.Size([10000]))"
            ]
          },
          "metadata": {
            "tags": []
          },
          "execution_count": 50
        }
      ]
    },
    {
      "cell_type": "code",
      "metadata": {
        "id": "U5NlT4gOYGQT",
        "colab_type": "code",
        "colab": {}
      },
      "source": [
        "X_train_tensor = X_train_tensor.reshape(-1, 1, 28, 28)\n",
        "X_test_tensor = X_test_tensor.reshape(-1, 1, 28, 28)"
      ],
      "execution_count": 0,
      "outputs": []
    },
    {
      "cell_type": "code",
      "metadata": {
        "id": "gdd09RKHY4C9",
        "colab_type": "code",
        "outputId": "4bb99314-cb81-4e53-ed4d-c6dff758a873",
        "colab": {
          "base_uri": "https://localhost:8080/",
          "height": 84
        }
      },
      "source": [
        "X_train_tensor.shape, X_test_tensor.shape, Y_train_tensor.shape, Y_test_tensor.shape"
      ],
      "execution_count": 52,
      "outputs": [
        {
          "output_type": "execute_result",
          "data": {
            "text/plain": [
              "(torch.Size([60000, 1, 28, 28]),\n",
              " torch.Size([10000, 1, 28, 28]),\n",
              " torch.Size([60000]),\n",
              " torch.Size([10000]))"
            ]
          },
          "metadata": {
            "tags": []
          },
          "execution_count": 52
        }
      ]
    },
    {
      "cell_type": "markdown",
      "metadata": {
        "id": "vboCptVTZR97",
        "colab_type": "text"
      },
      "source": [
        "#Setting CNN Model"
      ]
    },
    {
      "cell_type": "code",
      "metadata": {
        "id": "7mwvjJjeZUPR",
        "colab_type": "code",
        "colab": {}
      },
      "source": [
        "import torch.nn as nn\n",
        "import torch.nn.functional as F"
      ],
      "execution_count": 0,
      "outputs": []
    },
    {
      "cell_type": "code",
      "metadata": {
        "id": "usbumX2kZdHZ",
        "colab_type": "code",
        "colab": {}
      },
      "source": [
        "in_size = 1\n",
        "\n",
        "hid1_size = 16\n",
        "hid2_size = 32\n",
        "\n",
        "out_size = 10\n",
        "\n",
        "k_conv_size = 5"
      ],
      "execution_count": 0,
      "outputs": []
    },
    {
      "cell_type": "code",
      "metadata": {
        "id": "TyXppapRZq2Y",
        "colab_type": "code",
        "colab": {}
      },
      "source": [
        "class ConvNet(nn.Module):\n",
        "\n",
        "  def __init__(self):\n",
        "    super(ConvNet, self).__init__()\n",
        "    \n",
        "    self.layer1 = nn.Sequential(\n",
        "        nn.Conv2d(in_size, hid1_size, k_conv_size),\n",
        "        nn.BatchNorm2d(hid1_size),\n",
        "        nn.ReLU(),\n",
        "        nn.MaxPool2d(kernel_size = 2)\n",
        "    )\n",
        "\n",
        "    self.layer2 = nn.Sequential(\n",
        "        nn.Conv2d(hid1_size, hid2_size, k_conv_size),\n",
        "        nn.BatchNorm2d(hid2_size),\n",
        "        nn.ReLU(),\n",
        "        nn.MaxPool2d(kernel_size = 2)\n",
        "    )\n",
        "\n",
        "    self.fc = nn.Linear(512, out_size)\n",
        "\n",
        "  def forward(self, x):\n",
        "\n",
        "    out = self.layer1(x)\n",
        "    print(out.shape)\n",
        "\n",
        "    out = self.layer2(out)\n",
        "    print(out.shape)\n",
        "\n",
        "    out = out.reshape(out.size(0), -1)\n",
        "    print(out.shape)\n",
        "\n",
        "    out = self.fc(out)\n",
        "    print(out.shape)\n",
        "\n",
        "    return out"
      ],
      "execution_count": 0,
      "outputs": []
    },
    {
      "cell_type": "code",
      "metadata": {
        "id": "fKsxUmq-cL5A",
        "colab_type": "code",
        "colab": {}
      },
      "source": [
        "model = ConvNet()"
      ],
      "execution_count": 0,
      "outputs": []
    },
    {
      "cell_type": "code",
      "metadata": {
        "id": "Pzaef9JGcPcj",
        "colab_type": "code",
        "outputId": "7cd77749-23a6-40e2-a717-35ad4d23aeba",
        "colab": {
          "base_uri": "https://localhost:8080/",
          "height": 34
        }
      },
      "source": [
        "device = torch.device(\"cuda:0\" if torch.cuda.is_available() else \"cpu\")\n",
        "\n",
        "print(device)"
      ],
      "execution_count": 79,
      "outputs": [
        {
          "output_type": "stream",
          "text": [
            "cuda:0\n"
          ],
          "name": "stdout"
        }
      ]
    },
    {
      "cell_type": "code",
      "metadata": {
        "id": "Ajq-opQXc6BW",
        "colab_type": "code",
        "colab": {}
      },
      "source": [
        "model = model.to(device)"
      ],
      "execution_count": 0,
      "outputs": []
    },
    {
      "cell_type": "code",
      "metadata": {
        "id": "68ejD96zdCbA",
        "colab_type": "code",
        "colab": {}
      },
      "source": [
        "X_train_tensor = X_train_tensor.to(device)\n",
        "X_test_tensor = X_test_tensor.to(device)\n",
        "Y_train_tensor = Y_train_tensor.to(device)\n",
        "Y_test_tensor = Y_test_tensor.to(device)"
      ],
      "execution_count": 0,
      "outputs": []
    },
    {
      "cell_type": "markdown",
      "metadata": {
        "id": "bu8Q5ypydX8D",
        "colab_type": "text"
      },
      "source": [
        "#Training Model\n"
      ]
    },
    {
      "cell_type": "code",
      "metadata": {
        "id": "TsOjX1FedQHO",
        "colab_type": "code",
        "colab": {}
      },
      "source": [
        "learning_rate = 0.001\n",
        "\n",
        "criterion = nn.CrossEntropyLoss()\n",
        "\n",
        "optimizer = torch.optim.Adam(model.parameters(), lr = learning_rate)"
      ],
      "execution_count": 0,
      "outputs": []
    },
    {
      "cell_type": "code",
      "metadata": {
        "id": "a3jkB5YzdwWM",
        "colab_type": "code",
        "colab": {}
      },
      "source": [
        "epochs = 20\n",
        "loss_values = list()"
      ],
      "execution_count": 0,
      "outputs": []
    },
    {
      "cell_type": "code",
      "metadata": {
        "id": "LKQG_5Mhd2GG",
        "colab_type": "code",
        "outputId": "c0dca935-837f-444d-e04c-941caf981709",
        "colab": {
          "base_uri": "https://localhost:8080/",
          "height": 1000
        }
      },
      "source": [
        "for epoch in range(1, epochs+1):\n",
        "\n",
        "  outputs = model(X_train_tensor)\n",
        "  loss = criterion(outputs, Y_train_tensor)\n",
        "\n",
        "  optimizer.zero_grad()\n",
        "  loss.backward()\n",
        "  optimizer.step()\n",
        "\n",
        "  print(\"Epoch - %d, loss - %0.5f \"%(epoch, loss.item()))\n",
        "  loss_values.append(loss.item())"
      ],
      "execution_count": 84,
      "outputs": [
        {
          "output_type": "stream",
          "text": [
            "torch.Size([60000, 16, 12, 12])\n",
            "torch.Size([60000, 32, 4, 4])\n",
            "torch.Size([60000, 512])\n",
            "torch.Size([60000, 10])\n",
            "Epoch - 1, loss - 2.54194 \n",
            "torch.Size([60000, 16, 12, 12])\n",
            "torch.Size([60000, 32, 4, 4])\n",
            "torch.Size([60000, 512])\n",
            "torch.Size([60000, 10])\n",
            "Epoch - 2, loss - 2.19630 \n",
            "torch.Size([60000, 16, 12, 12])\n",
            "torch.Size([60000, 32, 4, 4])\n",
            "torch.Size([60000, 512])\n",
            "torch.Size([60000, 10])\n",
            "Epoch - 3, loss - 1.98693 \n",
            "torch.Size([60000, 16, 12, 12])\n",
            "torch.Size([60000, 32, 4, 4])\n",
            "torch.Size([60000, 512])\n",
            "torch.Size([60000, 10])\n",
            "Epoch - 4, loss - 1.81041 \n",
            "torch.Size([60000, 16, 12, 12])\n",
            "torch.Size([60000, 32, 4, 4])\n",
            "torch.Size([60000, 512])\n",
            "torch.Size([60000, 10])\n",
            "Epoch - 5, loss - 1.64647 \n",
            "torch.Size([60000, 16, 12, 12])\n",
            "torch.Size([60000, 32, 4, 4])\n",
            "torch.Size([60000, 512])\n",
            "torch.Size([60000, 10])\n",
            "Epoch - 6, loss - 1.49797 \n",
            "torch.Size([60000, 16, 12, 12])\n",
            "torch.Size([60000, 32, 4, 4])\n",
            "torch.Size([60000, 512])\n",
            "torch.Size([60000, 10])\n",
            "Epoch - 7, loss - 1.36848 \n",
            "torch.Size([60000, 16, 12, 12])\n",
            "torch.Size([60000, 32, 4, 4])\n",
            "torch.Size([60000, 512])\n",
            "torch.Size([60000, 10])\n",
            "Epoch - 8, loss - 1.25597 \n",
            "torch.Size([60000, 16, 12, 12])\n",
            "torch.Size([60000, 32, 4, 4])\n",
            "torch.Size([60000, 512])\n",
            "torch.Size([60000, 10])\n",
            "Epoch - 9, loss - 1.15655 \n",
            "torch.Size([60000, 16, 12, 12])\n",
            "torch.Size([60000, 32, 4, 4])\n",
            "torch.Size([60000, 512])\n",
            "torch.Size([60000, 10])\n",
            "Epoch - 10, loss - 1.06801 \n",
            "torch.Size([60000, 16, 12, 12])\n",
            "torch.Size([60000, 32, 4, 4])\n",
            "torch.Size([60000, 512])\n",
            "torch.Size([60000, 10])\n",
            "Epoch - 11, loss - 0.98970 \n",
            "torch.Size([60000, 16, 12, 12])\n",
            "torch.Size([60000, 32, 4, 4])\n",
            "torch.Size([60000, 512])\n",
            "torch.Size([60000, 10])\n",
            "Epoch - 12, loss - 0.92058 \n",
            "torch.Size([60000, 16, 12, 12])\n",
            "torch.Size([60000, 32, 4, 4])\n",
            "torch.Size([60000, 512])\n",
            "torch.Size([60000, 10])\n",
            "Epoch - 13, loss - 0.85879 \n",
            "torch.Size([60000, 16, 12, 12])\n",
            "torch.Size([60000, 32, 4, 4])\n",
            "torch.Size([60000, 512])\n",
            "torch.Size([60000, 10])\n",
            "Epoch - 14, loss - 0.80233 \n",
            "torch.Size([60000, 16, 12, 12])\n",
            "torch.Size([60000, 32, 4, 4])\n",
            "torch.Size([60000, 512])\n",
            "torch.Size([60000, 10])\n",
            "Epoch - 15, loss - 0.74996 \n",
            "torch.Size([60000, 16, 12, 12])\n",
            "torch.Size([60000, 32, 4, 4])\n",
            "torch.Size([60000, 512])\n",
            "torch.Size([60000, 10])\n",
            "Epoch - 16, loss - 0.70132 \n",
            "torch.Size([60000, 16, 12, 12])\n",
            "torch.Size([60000, 32, 4, 4])\n",
            "torch.Size([60000, 512])\n",
            "torch.Size([60000, 10])\n",
            "Epoch - 17, loss - 0.65664 \n",
            "torch.Size([60000, 16, 12, 12])\n",
            "torch.Size([60000, 32, 4, 4])\n",
            "torch.Size([60000, 512])\n",
            "torch.Size([60000, 10])\n",
            "Epoch - 18, loss - 0.61620 \n",
            "torch.Size([60000, 16, 12, 12])\n",
            "torch.Size([60000, 32, 4, 4])\n",
            "torch.Size([60000, 512])\n",
            "torch.Size([60000, 10])\n",
            "Epoch - 19, loss - 0.58005 \n",
            "torch.Size([60000, 16, 12, 12])\n",
            "torch.Size([60000, 32, 4, 4])\n",
            "torch.Size([60000, 512])\n",
            "torch.Size([60000, 10])\n",
            "Epoch - 20, loss - 0.54781 \n"
          ],
          "name": "stdout"
        }
      ]
    },
    {
      "cell_type": "code",
      "metadata": {
        "id": "-VCuE1qEegzz",
        "colab_type": "code",
        "outputId": "9330bb55-fb56-4f7f-a831-d8899cf89161",
        "colab": {
          "base_uri": "https://localhost:8080/",
          "height": 269
        }
      },
      "source": [
        "model.eval()"
      ],
      "execution_count": 85,
      "outputs": [
        {
          "output_type": "execute_result",
          "data": {
            "text/plain": [
              "ConvNet(\n",
              "  (layer1): Sequential(\n",
              "    (0): Conv2d(1, 16, kernel_size=(5, 5), stride=(1, 1))\n",
              "    (1): BatchNorm2d(16, eps=1e-05, momentum=0.1, affine=True, track_running_stats=True)\n",
              "    (2): ReLU()\n",
              "    (3): MaxPool2d(kernel_size=2, stride=2, padding=0, dilation=1, ceil_mode=False)\n",
              "  )\n",
              "  (layer2): Sequential(\n",
              "    (0): Conv2d(16, 32, kernel_size=(5, 5), stride=(1, 1))\n",
              "    (1): BatchNorm2d(32, eps=1e-05, momentum=0.1, affine=True, track_running_stats=True)\n",
              "    (2): ReLU()\n",
              "    (3): MaxPool2d(kernel_size=2, stride=2, padding=0, dilation=1, ceil_mode=False)\n",
              "  )\n",
              "  (fc): Linear(in_features=512, out_features=10, bias=True)\n",
              ")"
            ]
          },
          "metadata": {
            "tags": []
          },
          "execution_count": 85
        }
      ]
    },
    {
      "cell_type": "code",
      "metadata": {
        "id": "qpfWNFDTf5w3",
        "colab_type": "code",
        "colab": {}
      },
      "source": [
        "from sklearn.metrics import accuracy_score, precision_score, recall_score"
      ],
      "execution_count": 0,
      "outputs": []
    },
    {
      "cell_type": "code",
      "metadata": {
        "id": "Debwjk2zgInV",
        "colab_type": "code",
        "outputId": "a56798b3-6861-4487-ca15-79947dc79092",
        "colab": {
          "base_uri": "https://localhost:8080/",
          "height": 134
        }
      },
      "source": [
        "with torch.no_grad():\n",
        "\n",
        "  correct = 0\n",
        "  total = 0\n",
        "\n",
        "  outputs = model(X_test_tensor)\n",
        "  _, predicted = torch.max(outputs.data, 1)\n",
        "\n",
        "  y_test = Y_test_tensor.cpu().numpy()\n",
        "  predicted = predicted.cpu()\n",
        "\n",
        "  print(\"Accuracy: \", accuracy_score(predicted, y_test))\n",
        "  print(\"Precision: \", precision_score(predicted, y_test, average=\"weighted\"))\n",
        "  print(\"Recall: \", recall_score(predicted, y_test, average=\"weighted\")) "
      ],
      "execution_count": 87,
      "outputs": [
        {
          "output_type": "stream",
          "text": [
            "torch.Size([10000, 16, 12, 12])\n",
            "torch.Size([10000, 32, 4, 4])\n",
            "torch.Size([10000, 512])\n",
            "torch.Size([10000, 10])\n",
            "Accuracy:  0.9104\n",
            "Precision:  0.9108746385389\n",
            "Recall:  0.9104\n"
          ],
          "name": "stdout"
        }
      ]
    },
    {
      "cell_type": "markdown",
      "metadata": {
        "id": "oX8kdGlViuA9",
        "colab_type": "text"
      },
      "source": [
        "#HyperParameter Tunning"
      ]
    },
    {
      "cell_type": "code",
      "metadata": {
        "id": "WDjZcCZTi9b6",
        "colab_type": "code",
        "colab": {}
      },
      "source": [
        "in_size = 1\n",
        "\n",
        "hid1_size = 16\n",
        "hid2_size = 32\n",
        "\n",
        "out_size = 10\n",
        "\n",
        "k_conv_size = 5"
      ],
      "execution_count": 0,
      "outputs": []
    },
    {
      "cell_type": "code",
      "metadata": {
        "id": "Byd5mDvrjDxf",
        "colab_type": "code",
        "colab": {}
      },
      "source": [
        "class ConvNet(nn.Module):\n",
        "\n",
        "  def __init__(self):\n",
        "    super(ConvNet, self).__init__()\n",
        "    \n",
        "    self.layer1 = nn.Sequential(\n",
        "        nn.Conv2d(in_size, hid1_size, k_conv_size),\n",
        "        nn.BatchNorm2d(hid1_size),\n",
        "        nn.ReLU(),\n",
        "        nn.MaxPool2d(kernel_size = 2)\n",
        "    )\n",
        "\n",
        "    self.layer2 = nn.Sequential(\n",
        "        nn.Conv2d(hid1_size, hid2_size, k_conv_size),\n",
        "        nn.BatchNorm2d(hid2_size),\n",
        "        nn.ReLU(),\n",
        "        nn.MaxPool2d(kernel_size = 2)\n",
        "    )\n",
        "\n",
        "    self.fc = nn.Linear(512, out_size)\n",
        "\n",
        "  def forward(self, x):\n",
        "\n",
        "    out = self.layer1(x)\n",
        "    print(out.shape)\n",
        "\n",
        "    out = self.layer2(out)\n",
        "    print(out.shape)\n",
        "\n",
        "    out = out.reshape(out.size(0), -1)\n",
        "    print(out.shape)\n",
        "\n",
        "    out = self.fc(out)\n",
        "    print(out.shape)\n",
        "\n",
        "    return out"
      ],
      "execution_count": 0,
      "outputs": []
    },
    {
      "cell_type": "code",
      "metadata": {
        "id": "rwJ3eMBgjKIB",
        "colab_type": "code",
        "colab": {}
      },
      "source": [
        "model = ConvNet()\n",
        "model = model.to(device)"
      ],
      "execution_count": 0,
      "outputs": []
    },
    {
      "cell_type": "code",
      "metadata": {
        "id": "Jxrg-EayheHN",
        "colab_type": "code",
        "colab": {}
      },
      "source": [
        "learning_rate = 0.01\n",
        "\n",
        "criterion = nn.CrossEntropyLoss()\n",
        "\n",
        "optimizer = torch.optim.Adam(model.parameters(), lr = learning_rate)"
      ],
      "execution_count": 0,
      "outputs": []
    },
    {
      "cell_type": "code",
      "metadata": {
        "id": "TI9mejS7ixkq",
        "colab_type": "code",
        "colab": {}
      },
      "source": [
        "epochs = 70\n",
        "loss_values = list()"
      ],
      "execution_count": 0,
      "outputs": []
    },
    {
      "cell_type": "code",
      "metadata": {
        "id": "N03lTZPzi1RX",
        "colab_type": "code",
        "outputId": "8a153f56-df3d-4a78-95ff-830aa4cc4f5f",
        "colab": {
          "base_uri": "https://localhost:8080/",
          "height": 1000
        }
      },
      "source": [
        "for epoch in range(1, epochs+1):\n",
        "\n",
        "  outputs = model(X_train_tensor)\n",
        "  loss = criterion(outputs, Y_train_tensor)\n",
        "\n",
        "  optimizer.zero_grad()\n",
        "  loss.backward()\n",
        "  optimizer.step()\n",
        "\n",
        "  print(\"Epoch - %d, loss - %0.5f \"%(epoch, loss.item()))\n",
        "  loss_values.append(loss.item())"
      ],
      "execution_count": 71,
      "outputs": [
        {
          "output_type": "stream",
          "text": [
            "torch.Size([60000, 16, 12, 12])\n",
            "torch.Size([60000, 32, 4, 4])\n",
            "torch.Size([60000, 512])\n",
            "torch.Size([60000, 10])\n",
            "Epoch - 1, loss - 2.57530 \n",
            "torch.Size([60000, 16, 12, 12])\n",
            "torch.Size([60000, 32, 4, 4])\n",
            "torch.Size([60000, 512])\n",
            "torch.Size([60000, 10])\n",
            "Epoch - 2, loss - 2.66418 \n",
            "torch.Size([60000, 16, 12, 12])\n",
            "torch.Size([60000, 32, 4, 4])\n",
            "torch.Size([60000, 512])\n",
            "torch.Size([60000, 10])\n",
            "Epoch - 3, loss - 2.00569 \n",
            "torch.Size([60000, 16, 12, 12])\n",
            "torch.Size([60000, 32, 4, 4])\n",
            "torch.Size([60000, 512])\n",
            "torch.Size([60000, 10])\n",
            "Epoch - 4, loss - 1.25484 \n",
            "torch.Size([60000, 16, 12, 12])\n",
            "torch.Size([60000, 32, 4, 4])\n",
            "torch.Size([60000, 512])\n",
            "torch.Size([60000, 10])\n",
            "Epoch - 5, loss - 1.23943 \n",
            "torch.Size([60000, 16, 12, 12])\n",
            "torch.Size([60000, 32, 4, 4])\n",
            "torch.Size([60000, 512])\n",
            "torch.Size([60000, 10])\n",
            "Epoch - 6, loss - 1.13569 \n",
            "torch.Size([60000, 16, 12, 12])\n",
            "torch.Size([60000, 32, 4, 4])\n",
            "torch.Size([60000, 512])\n",
            "torch.Size([60000, 10])\n",
            "Epoch - 7, loss - 0.79685 \n",
            "torch.Size([60000, 16, 12, 12])\n",
            "torch.Size([60000, 32, 4, 4])\n",
            "torch.Size([60000, 512])\n",
            "torch.Size([60000, 10])\n",
            "Epoch - 8, loss - 0.57155 \n",
            "torch.Size([60000, 16, 12, 12])\n",
            "torch.Size([60000, 32, 4, 4])\n",
            "torch.Size([60000, 512])\n",
            "torch.Size([60000, 10])\n",
            "Epoch - 9, loss - 0.57595 \n",
            "torch.Size([60000, 16, 12, 12])\n",
            "torch.Size([60000, 32, 4, 4])\n",
            "torch.Size([60000, 512])\n",
            "torch.Size([60000, 10])\n",
            "Epoch - 10, loss - 0.58749 \n",
            "torch.Size([60000, 16, 12, 12])\n",
            "torch.Size([60000, 32, 4, 4])\n",
            "torch.Size([60000, 512])\n",
            "torch.Size([60000, 10])\n",
            "Epoch - 11, loss - 0.51754 \n",
            "torch.Size([60000, 16, 12, 12])\n",
            "torch.Size([60000, 32, 4, 4])\n",
            "torch.Size([60000, 512])\n",
            "torch.Size([60000, 10])\n",
            "Epoch - 12, loss - 0.42172 \n",
            "torch.Size([60000, 16, 12, 12])\n",
            "torch.Size([60000, 32, 4, 4])\n",
            "torch.Size([60000, 512])\n",
            "torch.Size([60000, 10])\n",
            "Epoch - 13, loss - 0.36081 \n",
            "torch.Size([60000, 16, 12, 12])\n",
            "torch.Size([60000, 32, 4, 4])\n",
            "torch.Size([60000, 512])\n",
            "torch.Size([60000, 10])\n",
            "Epoch - 14, loss - 0.34024 \n",
            "torch.Size([60000, 16, 12, 12])\n",
            "torch.Size([60000, 32, 4, 4])\n",
            "torch.Size([60000, 512])\n",
            "torch.Size([60000, 10])\n",
            "Epoch - 15, loss - 0.33878 \n",
            "torch.Size([60000, 16, 12, 12])\n",
            "torch.Size([60000, 32, 4, 4])\n",
            "torch.Size([60000, 512])\n",
            "torch.Size([60000, 10])\n",
            "Epoch - 16, loss - 0.32964 \n",
            "torch.Size([60000, 16, 12, 12])\n",
            "torch.Size([60000, 32, 4, 4])\n",
            "torch.Size([60000, 512])\n",
            "torch.Size([60000, 10])\n",
            "Epoch - 17, loss - 0.30653 \n",
            "torch.Size([60000, 16, 12, 12])\n",
            "torch.Size([60000, 32, 4, 4])\n",
            "torch.Size([60000, 512])\n",
            "torch.Size([60000, 10])\n",
            "Epoch - 18, loss - 0.27998 \n",
            "torch.Size([60000, 16, 12, 12])\n",
            "torch.Size([60000, 32, 4, 4])\n",
            "torch.Size([60000, 512])\n",
            "torch.Size([60000, 10])\n",
            "Epoch - 19, loss - 0.26083 \n",
            "torch.Size([60000, 16, 12, 12])\n",
            "torch.Size([60000, 32, 4, 4])\n",
            "torch.Size([60000, 512])\n",
            "torch.Size([60000, 10])\n",
            "Epoch - 20, loss - 0.25070 \n",
            "torch.Size([60000, 16, 12, 12])\n",
            "torch.Size([60000, 32, 4, 4])\n",
            "torch.Size([60000, 512])\n",
            "torch.Size([60000, 10])\n",
            "Epoch - 21, loss - 0.24320 \n",
            "torch.Size([60000, 16, 12, 12])\n",
            "torch.Size([60000, 32, 4, 4])\n",
            "torch.Size([60000, 512])\n",
            "torch.Size([60000, 10])\n",
            "Epoch - 22, loss - 0.23231 \n",
            "torch.Size([60000, 16, 12, 12])\n",
            "torch.Size([60000, 32, 4, 4])\n",
            "torch.Size([60000, 512])\n",
            "torch.Size([60000, 10])\n",
            "Epoch - 23, loss - 0.21827 \n",
            "torch.Size([60000, 16, 12, 12])\n",
            "torch.Size([60000, 32, 4, 4])\n",
            "torch.Size([60000, 512])\n",
            "torch.Size([60000, 10])\n",
            "Epoch - 24, loss - 0.20535 \n",
            "torch.Size([60000, 16, 12, 12])\n",
            "torch.Size([60000, 32, 4, 4])\n",
            "torch.Size([60000, 512])\n",
            "torch.Size([60000, 10])\n",
            "Epoch - 25, loss - 0.19696 \n",
            "torch.Size([60000, 16, 12, 12])\n",
            "torch.Size([60000, 32, 4, 4])\n",
            "torch.Size([60000, 512])\n",
            "torch.Size([60000, 10])\n",
            "Epoch - 26, loss - 0.19278 \n",
            "torch.Size([60000, 16, 12, 12])\n",
            "torch.Size([60000, 32, 4, 4])\n",
            "torch.Size([60000, 512])\n",
            "torch.Size([60000, 10])\n",
            "Epoch - 27, loss - 0.18934 \n",
            "torch.Size([60000, 16, 12, 12])\n",
            "torch.Size([60000, 32, 4, 4])\n",
            "torch.Size([60000, 512])\n",
            "torch.Size([60000, 10])\n",
            "Epoch - 28, loss - 0.18320 \n",
            "torch.Size([60000, 16, 12, 12])\n",
            "torch.Size([60000, 32, 4, 4])\n",
            "torch.Size([60000, 512])\n",
            "torch.Size([60000, 10])\n",
            "Epoch - 29, loss - 0.17392 \n",
            "torch.Size([60000, 16, 12, 12])\n",
            "torch.Size([60000, 32, 4, 4])\n",
            "torch.Size([60000, 512])\n",
            "torch.Size([60000, 10])\n",
            "Epoch - 30, loss - 0.16400 \n",
            "torch.Size([60000, 16, 12, 12])\n",
            "torch.Size([60000, 32, 4, 4])\n",
            "torch.Size([60000, 512])\n",
            "torch.Size([60000, 10])\n",
            "Epoch - 31, loss - 0.15623 \n",
            "torch.Size([60000, 16, 12, 12])\n",
            "torch.Size([60000, 32, 4, 4])\n",
            "torch.Size([60000, 512])\n",
            "torch.Size([60000, 10])\n",
            "Epoch - 32, loss - 0.15147 \n",
            "torch.Size([60000, 16, 12, 12])\n",
            "torch.Size([60000, 32, 4, 4])\n",
            "torch.Size([60000, 512])\n",
            "torch.Size([60000, 10])\n",
            "Epoch - 33, loss - 0.14868 \n",
            "torch.Size([60000, 16, 12, 12])\n",
            "torch.Size([60000, 32, 4, 4])\n",
            "torch.Size([60000, 512])\n",
            "torch.Size([60000, 10])\n",
            "Epoch - 34, loss - 0.14615 \n",
            "torch.Size([60000, 16, 12, 12])\n",
            "torch.Size([60000, 32, 4, 4])\n",
            "torch.Size([60000, 512])\n",
            "torch.Size([60000, 10])\n",
            "Epoch - 35, loss - 0.14280 \n",
            "torch.Size([60000, 16, 12, 12])\n",
            "torch.Size([60000, 32, 4, 4])\n",
            "torch.Size([60000, 512])\n",
            "torch.Size([60000, 10])\n",
            "Epoch - 36, loss - 0.13857 \n",
            "torch.Size([60000, 16, 12, 12])\n",
            "torch.Size([60000, 32, 4, 4])\n",
            "torch.Size([60000, 512])\n",
            "torch.Size([60000, 10])\n",
            "Epoch - 37, loss - 0.13398 \n",
            "torch.Size([60000, 16, 12, 12])\n",
            "torch.Size([60000, 32, 4, 4])\n",
            "torch.Size([60000, 512])\n",
            "torch.Size([60000, 10])\n",
            "Epoch - 38, loss - 0.12958 \n",
            "torch.Size([60000, 16, 12, 12])\n",
            "torch.Size([60000, 32, 4, 4])\n",
            "torch.Size([60000, 512])\n",
            "torch.Size([60000, 10])\n",
            "Epoch - 39, loss - 0.12569 \n",
            "torch.Size([60000, 16, 12, 12])\n",
            "torch.Size([60000, 32, 4, 4])\n",
            "torch.Size([60000, 512])\n",
            "torch.Size([60000, 10])\n",
            "Epoch - 40, loss - 0.12240 \n",
            "torch.Size([60000, 16, 12, 12])\n",
            "torch.Size([60000, 32, 4, 4])\n",
            "torch.Size([60000, 512])\n",
            "torch.Size([60000, 10])\n",
            "Epoch - 41, loss - 0.11973 \n",
            "torch.Size([60000, 16, 12, 12])\n",
            "torch.Size([60000, 32, 4, 4])\n",
            "torch.Size([60000, 512])\n",
            "torch.Size([60000, 10])\n",
            "Epoch - 42, loss - 0.11744 \n",
            "torch.Size([60000, 16, 12, 12])\n",
            "torch.Size([60000, 32, 4, 4])\n",
            "torch.Size([60000, 512])\n",
            "torch.Size([60000, 10])\n",
            "Epoch - 43, loss - 0.11512 \n",
            "torch.Size([60000, 16, 12, 12])\n",
            "torch.Size([60000, 32, 4, 4])\n",
            "torch.Size([60000, 512])\n",
            "torch.Size([60000, 10])\n",
            "Epoch - 44, loss - 0.11249 \n",
            "torch.Size([60000, 16, 12, 12])\n",
            "torch.Size([60000, 32, 4, 4])\n",
            "torch.Size([60000, 512])\n",
            "torch.Size([60000, 10])\n",
            "Epoch - 45, loss - 0.10965 \n",
            "torch.Size([60000, 16, 12, 12])\n",
            "torch.Size([60000, 32, 4, 4])\n",
            "torch.Size([60000, 512])\n",
            "torch.Size([60000, 10])\n",
            "Epoch - 46, loss - 0.10696 \n",
            "torch.Size([60000, 16, 12, 12])\n",
            "torch.Size([60000, 32, 4, 4])\n",
            "torch.Size([60000, 512])\n",
            "torch.Size([60000, 10])\n",
            "Epoch - 47, loss - 0.10461 \n",
            "torch.Size([60000, 16, 12, 12])\n",
            "torch.Size([60000, 32, 4, 4])\n",
            "torch.Size([60000, 512])\n",
            "torch.Size([60000, 10])\n",
            "Epoch - 48, loss - 0.10249 \n",
            "torch.Size([60000, 16, 12, 12])\n",
            "torch.Size([60000, 32, 4, 4])\n",
            "torch.Size([60000, 512])\n",
            "torch.Size([60000, 10])\n",
            "Epoch - 49, loss - 0.10032 \n",
            "torch.Size([60000, 16, 12, 12])\n",
            "torch.Size([60000, 32, 4, 4])\n",
            "torch.Size([60000, 512])\n",
            "torch.Size([60000, 10])\n",
            "Epoch - 50, loss - 0.09800 \n",
            "torch.Size([60000, 16, 12, 12])\n",
            "torch.Size([60000, 32, 4, 4])\n",
            "torch.Size([60000, 512])\n",
            "torch.Size([60000, 10])\n",
            "Epoch - 51, loss - 0.09572 \n",
            "torch.Size([60000, 16, 12, 12])\n",
            "torch.Size([60000, 32, 4, 4])\n",
            "torch.Size([60000, 512])\n",
            "torch.Size([60000, 10])\n",
            "Epoch - 52, loss - 0.09376 \n",
            "torch.Size([60000, 16, 12, 12])\n",
            "torch.Size([60000, 32, 4, 4])\n",
            "torch.Size([60000, 512])\n",
            "torch.Size([60000, 10])\n",
            "Epoch - 53, loss - 0.09214 \n",
            "torch.Size([60000, 16, 12, 12])\n",
            "torch.Size([60000, 32, 4, 4])\n",
            "torch.Size([60000, 512])\n",
            "torch.Size([60000, 10])\n",
            "Epoch - 54, loss - 0.09066 \n",
            "torch.Size([60000, 16, 12, 12])\n",
            "torch.Size([60000, 32, 4, 4])\n",
            "torch.Size([60000, 512])\n",
            "torch.Size([60000, 10])\n",
            "Epoch - 55, loss - 0.08911 \n",
            "torch.Size([60000, 16, 12, 12])\n",
            "torch.Size([60000, 32, 4, 4])\n",
            "torch.Size([60000, 512])\n",
            "torch.Size([60000, 10])\n",
            "Epoch - 56, loss - 0.08744 \n",
            "torch.Size([60000, 16, 12, 12])\n",
            "torch.Size([60000, 32, 4, 4])\n",
            "torch.Size([60000, 512])\n",
            "torch.Size([60000, 10])\n",
            "Epoch - 57, loss - 0.08575 \n",
            "torch.Size([60000, 16, 12, 12])\n",
            "torch.Size([60000, 32, 4, 4])\n",
            "torch.Size([60000, 512])\n",
            "torch.Size([60000, 10])\n",
            "Epoch - 58, loss - 0.08412 \n",
            "torch.Size([60000, 16, 12, 12])\n",
            "torch.Size([60000, 32, 4, 4])\n",
            "torch.Size([60000, 512])\n",
            "torch.Size([60000, 10])\n",
            "Epoch - 59, loss - 0.08261 \n",
            "torch.Size([60000, 16, 12, 12])\n",
            "torch.Size([60000, 32, 4, 4])\n",
            "torch.Size([60000, 512])\n",
            "torch.Size([60000, 10])\n",
            "Epoch - 60, loss - 0.08118 \n",
            "torch.Size([60000, 16, 12, 12])\n",
            "torch.Size([60000, 32, 4, 4])\n",
            "torch.Size([60000, 512])\n",
            "torch.Size([60000, 10])\n",
            "Epoch - 61, loss - 0.07984 \n",
            "torch.Size([60000, 16, 12, 12])\n",
            "torch.Size([60000, 32, 4, 4])\n",
            "torch.Size([60000, 512])\n",
            "torch.Size([60000, 10])\n",
            "Epoch - 62, loss - 0.07858 \n",
            "torch.Size([60000, 16, 12, 12])\n",
            "torch.Size([60000, 32, 4, 4])\n",
            "torch.Size([60000, 512])\n",
            "torch.Size([60000, 10])\n",
            "Epoch - 63, loss - 0.07735 \n",
            "torch.Size([60000, 16, 12, 12])\n",
            "torch.Size([60000, 32, 4, 4])\n",
            "torch.Size([60000, 512])\n",
            "torch.Size([60000, 10])\n",
            "Epoch - 64, loss - 0.07612 \n",
            "torch.Size([60000, 16, 12, 12])\n",
            "torch.Size([60000, 32, 4, 4])\n",
            "torch.Size([60000, 512])\n",
            "torch.Size([60000, 10])\n",
            "Epoch - 65, loss - 0.07487 \n",
            "torch.Size([60000, 16, 12, 12])\n",
            "torch.Size([60000, 32, 4, 4])\n",
            "torch.Size([60000, 512])\n",
            "torch.Size([60000, 10])\n",
            "Epoch - 66, loss - 0.07366 \n",
            "torch.Size([60000, 16, 12, 12])\n",
            "torch.Size([60000, 32, 4, 4])\n",
            "torch.Size([60000, 512])\n",
            "torch.Size([60000, 10])\n",
            "Epoch - 67, loss - 0.07253 \n",
            "torch.Size([60000, 16, 12, 12])\n",
            "torch.Size([60000, 32, 4, 4])\n",
            "torch.Size([60000, 512])\n",
            "torch.Size([60000, 10])\n",
            "Epoch - 68, loss - 0.07147 \n",
            "torch.Size([60000, 16, 12, 12])\n",
            "torch.Size([60000, 32, 4, 4])\n",
            "torch.Size([60000, 512])\n",
            "torch.Size([60000, 10])\n",
            "Epoch - 69, loss - 0.07045 \n",
            "torch.Size([60000, 16, 12, 12])\n",
            "torch.Size([60000, 32, 4, 4])\n",
            "torch.Size([60000, 512])\n",
            "torch.Size([60000, 10])\n",
            "Epoch - 70, loss - 0.06944 \n"
          ],
          "name": "stdout"
        }
      ]
    },
    {
      "cell_type": "code",
      "metadata": {
        "id": "YQwuCrKxmXUg",
        "colab_type": "code",
        "colab": {
          "base_uri": "https://localhost:8080/",
          "height": 269
        },
        "outputId": "6c388297-e3c2-4563-f6f0-1c8cfb52c0ab"
      },
      "source": [
        "model.eval()"
      ],
      "execution_count": 72,
      "outputs": [
        {
          "output_type": "execute_result",
          "data": {
            "text/plain": [
              "ConvNet(\n",
              "  (layer1): Sequential(\n",
              "    (0): Conv2d(1, 16, kernel_size=(5, 5), stride=(1, 1))\n",
              "    (1): BatchNorm2d(16, eps=1e-05, momentum=0.1, affine=True, track_running_stats=True)\n",
              "    (2): ReLU()\n",
              "    (3): MaxPool2d(kernel_size=2, stride=2, padding=0, dilation=1, ceil_mode=False)\n",
              "  )\n",
              "  (layer2): Sequential(\n",
              "    (0): Conv2d(16, 32, kernel_size=(5, 5), stride=(1, 1))\n",
              "    (1): BatchNorm2d(32, eps=1e-05, momentum=0.1, affine=True, track_running_stats=True)\n",
              "    (2): ReLU()\n",
              "    (3): MaxPool2d(kernel_size=2, stride=2, padding=0, dilation=1, ceil_mode=False)\n",
              "  )\n",
              "  (fc): Linear(in_features=512, out_features=10, bias=True)\n",
              ")"
            ]
          },
          "metadata": {
            "tags": []
          },
          "execution_count": 72
        }
      ]
    },
    {
      "cell_type": "code",
      "metadata": {
        "id": "qgVo0ll6jUNg",
        "colab_type": "code",
        "outputId": "41550a7e-2640-4749-fbaa-d404beb2f0a7",
        "colab": {
          "base_uri": "https://localhost:8080/",
          "height": 134
        }
      },
      "source": [
        "with torch.no_grad():\n",
        "\n",
        "  correct = 0\n",
        "  total = 0\n",
        "\n",
        "  outputs = model(X_test_tensor)\n",
        "  _, predicted = torch.max(outputs.data, 1)\n",
        "\n",
        "  y_test = Y_test_tensor.cpu().numpy()\n",
        "  predicted = predicted.cpu()\n",
        "\n",
        "  print(\"Accuracy: \", accuracy_score(predicted, y_test))\n",
        "  print(\"Precision: \", precision_score(predicted, y_test, average=\"weighted\"))\n",
        "  print(\"Recall: \", recall_score(predicted, y_test, average=\"weighted\")) "
      ],
      "execution_count": 73,
      "outputs": [
        {
          "output_type": "stream",
          "text": [
            "torch.Size([10000, 16, 12, 12])\n",
            "torch.Size([10000, 32, 4, 4])\n",
            "torch.Size([10000, 512])\n",
            "torch.Size([10000, 10])\n",
            "Accuracy:  0.9785\n",
            "Precision:  0.9787438592965524\n",
            "Recall:  0.9785\n"
          ],
          "name": "stdout"
        }
      ]
    }
  ]
}